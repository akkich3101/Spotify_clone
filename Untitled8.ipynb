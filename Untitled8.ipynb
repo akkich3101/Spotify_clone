{
  "nbformat": 4,
  "nbformat_minor": 0,
  "metadata": {
    "colab": {
      "provenance": [],
      "authorship_tag": "ABX9TyNeOiApZiTf1iwV6uKOeTGL",
      "include_colab_link": true
    },
    "kernelspec": {
      "name": "python3",
      "display_name": "Python 3"
    },
    "language_info": {
      "name": "python"
    }
  },
  "cells": [
    {
      "cell_type": "markdown",
      "metadata": {
        "id": "view-in-github",
        "colab_type": "text"
      },
      "source": [
        "<a href=\"https://colab.research.google.com/github/akkich3101/Spotify_clone/blob/main/Untitled8.ipynb\" target=\"_parent\"><img src=\"https://colab.research.google.com/assets/colab-badge.svg\" alt=\"Open In Colab\"/></a>"
      ]
    },
    {
      "cell_type": "code",
      "source": [
        "import matplotlib.pyplot as plt\n",
        "import numpy as np\n",
        "from sklearn import datasets, linear_model\n",
        "from sklearn.metrics import mean_squared_error"
      ],
      "metadata": {
        "id": "Atau6iMix7oJ"
      },
      "execution_count": 21,
      "outputs": []
    },
    {
      "cell_type": "code",
      "source": [
        "diabetes = datasets.load_diabetes()\n",
        "diabetes_X = diabetes.data"
      ],
      "metadata": {
        "id": "gSoKhS2nsBPJ"
      },
      "execution_count": 22,
      "outputs": []
    },
    {
      "cell_type": "code",
      "source": [
        "diabetes_X_train  = diabetes_X[:-30]\n",
        "diabetes_X_test = diabetes_X[-30:]"
      ],
      "metadata": {
        "id": "YPHiCfg_sooy"
      },
      "execution_count": 23,
      "outputs": []
    },
    {
      "cell_type": "code",
      "source": [
        "diabetes_y_train  = diabetes.target[:-30]\n",
        "diabetes_y_test = diabetes.target[-30:]"
      ],
      "metadata": {
        "id": "I9lSYt9Ksv4A"
      },
      "execution_count": 24,
      "outputs": []
    },
    {
      "cell_type": "code",
      "source": [
        "model = linear_model.LinearRegression()\n",
        "model.fit(diabetes_X_train, diabetes_y_train)\n",
        "diabetes_y_predicted = model.predict(diabetes_X_test)"
      ],
      "metadata": {
        "id": "F7POsFYws3cU"
      },
      "execution_count": 25,
      "outputs": []
    },
    {
      "cell_type": "code",
      "source": [
        "print(\"Mean squared error is:  \", mean_squared_error(diabetes_y_test, diabetes_y_predicted))\n",
        "print(\"Weights:  \",  model.coef_)\n",
        "print(\"Intercept:  \",  model.intercept_)"
      ],
      "metadata": {
        "colab": {
          "base_uri": "https://localhost:8080/"
        },
        "id": "_5oPsT6vuBN2",
        "outputId": "51b58ba7-4c61-4a6a-fa7c-b82273d1d6cc"
      },
      "execution_count": 26,
      "outputs": [
        {
          "output_type": "stream",
          "name": "stdout",
          "text": [
            "Mean squared error is:   1826.5364191345423\n",
            "Weights:   [  -1.16924976 -237.18461486  518.30606657  309.04865826 -763.14121622\n",
            "  458.90999325   80.62441437  174.32183366  721.49712065   79.19307944]\n",
            "Intercept:   153.05827988224112\n"
          ]
        }
      ]
    },
    {
      "cell_type": "code",
      "source": [],
      "metadata": {
        "id": "yYmQG7L5wjWX"
      },
      "execution_count": 26,
      "outputs": []
    }
  ]
}